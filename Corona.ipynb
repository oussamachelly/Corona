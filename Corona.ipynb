{
 "cells": [
  {
   "cell_type": "code",
   "execution_count": 1,
   "metadata": {},
   "outputs": [],
   "source": [
    "import matplotlib.pyplot as plt\n",
    "import matplotlib.dates as mdates\n",
    "import numpy as np\n",
    "from scipy.optimize import curve_fit\n",
    "import datetime as dt"
   ]
  },
  {
   "cell_type": "code",
   "execution_count": 2,
   "metadata": {},
   "outputs": [],
   "source": [
    "# Define the exponential function\n",
    "def func(x, a, b, c):\n",
    "    return a * np.exp(b * x) + c\n",
    "\n",
    "# Define some variables\n",
    "prediction_span = 8\n",
    "\n",
    "# Corona cases in Tunisia from Mar. 8 to yesterday\n",
    "country_name = \"Tunisia\"\n",
    "cases = [2,5,6,7,13,16,18,\n",
    "         20,24,29,39,54,60,75,\n",
    "         89\n",
    "        ]\n"
   ]
  },
  {
   "cell_type": "code",
   "execution_count": 4,
   "metadata": {},
   "outputs": [
    {
     "data": {
      "image/png": "[encoded data removed]",
      "text/plain": [
       "<Figure size 432x288 with 1 Axes>"
      ]
     },
     "metadata": {
      "needs_background": "light"
     },
     "output_type": "display_data"
    }
   ],
   "source": [
    "n_days = len(cases)\n",
    "\n",
    "# Fit an exponential model\n",
    "days = np.arange(0,n_days,1)\n",
    "popt, pcov = curve_fit(func, days, cases)\n",
    "\n",
    "# Plotting a figure\n",
    "plt.figure()\n",
    "# First, generate the dates for the X axis\n",
    "now = dt.datetime.now()\n",
    "now = dt.datetime.now() - dt.timedelta(days=1) # Uncomment if today's stats not available yet\n",
    "then = now - dt.timedelta(days=n_days) \n",
    "future = now + dt.timedelta(days=prediction_span)\n",
    "dates_1 = mdates.drange(then,now,dt.timedelta(days=1))\n",
    "dates_2 = mdates.drange(then,future,dt.timedelta(days=1))\n",
    "plt.gca().xaxis.set_major_formatter(mdates.DateFormatter('%d/%m'))\n",
    "plt.gca().xaxis.set_major_locator(mdates.DayLocator(interval=3))\n",
    "# Then plot\n",
    "plt.plot(dates_1, cases, 'ko', label=\"Original data\")\n",
    "days = np.arange(0,n_days+prediction_span,1)\n",
    "plt.plot(dates_2, func(days, *popt), 'r-', label=\"Prediction\")\n",
    "# And annotate the axis\n",
    "plt.gcf().autofmt_xdate()\n",
    "plt.title('Number of Corona cases in '+country_name+' since Mar. 8')\n",
    "plt.legend()\n",
    "plt.savefig(country_name+'.png')\n",
    "plt.show()"
   ]
  },
  {
   "cell_type": "code",
   "execution_count": 5,
   "metadata": {},
   "outputs": [
    {
     "name": "stdout",
     "output_type": "stream",
     "text": [
      "Predicted number of cases in Tunisia\n",
      "-  23/03/2020 = 110\n",
      "-  24/03/2020 = 134\n",
      "-  25/03/2020 = 163\n",
      "-  26/03/2020 = 198\n",
      "-  27/03/2020 = 241\n",
      "-  28/03/2020 = 293\n",
      "-  29/03/2020 = 356\n",
      "-  30/03/2020 = 432\n"
     ]
    }
   ],
   "source": [
    "#Predictions\n",
    "print \"Predicted number of cases in\", country_name\n",
    "for i in np.arange(0,prediction_span,1):\n",
    "    print \"- \", (dt.datetime.now()+dt.timedelta(days=i)).strftime(\"%d/%m/%Y\"), \"=\",\\\n",
    "    int(round(func(n_days+i, *popt)))"
   ]
  },
  {
   "cell_type": "code",
   "execution_count": null,
   "metadata": {},
   "outputs": [],
   "source": []
  }
 ],
 "metadata": {
  "kernelspec": {
   "display_name": "Python 2",
   "language": "python",
   "name": "python2"
  },
  "language_info": {
   "codemirror_mode": {
    "name": "ipython",
    "version": 2
   },
   "file_extension": ".py",
   "mimetype": "text/x-python",
   "name": "python",
   "nbconvert_exporter": "python",
   "pygments_lexer": "ipython2",
   "version": "2.7.17"
  }
 },
 "nbformat": 4,
 "nbformat_minor": 2
}
